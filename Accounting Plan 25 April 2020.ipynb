{
 "cells": [
  {
   "cell_type": "markdown",
   "metadata": {},
   "source": [
    "# Fixed Inputs"
   ]
  },
  {
   "cell_type": "code",
   "execution_count": 3,
   "metadata": {},
   "outputs": [
    {
     "name": "stdout",
     "output_type": "stream",
     "text": [
      "fixedParameter1 = 10000\n",
      "fixedParameter2 = 123\n",
      "fixedParameter3 = 8\n",
      "fixedParameter4 = 3\n"
     ]
    }
   ],
   "source": [
    "fixedParameter1 = 10000\n",
    "print(\"fixedParameter1 =\",fixedParameter1)\n",
    "fixedParameter2 = 123\n",
    "print(\"fixedParameter2 =\",fixedParameter2)\n",
    "fixedParameter3 = 8\n",
    "print(\"fixedParameter3 =\",fixedParameter3)\n",
    "fixedParameter4 = 3\n",
    "print(\"fixedParameter4 =\",fixedParameter4)"
   ]
  },
  {
   "cell_type": "markdown",
   "metadata": {},
   "source": [
    "# Anchor Parameter 5 (Iterating)"
   ]
  },
  {
   "cell_type": "code",
   "execution_count": 4,
   "metadata": {},
   "outputs": [
    {
     "name": "stdout",
     "output_type": "stream",
     "text": [
      "90\n",
      "91\n",
      "92\n",
      "93\n",
      "94\n",
      "95\n",
      "96\n",
      "97\n",
      "98\n",
      "99\n",
      "100\n",
      "101\n",
      "102\n",
      "103\n",
      "104\n",
      "105\n",
      "106\n",
      "107\n",
      "108\n",
      "109\n",
      "110\n",
      "111\n",
      "112\n",
      "113\n",
      "114\n",
      "115\n",
      "116\n",
      "117\n",
      "118\n",
      "119\n",
      "120\n",
      "121\n",
      "122\n",
      "123\n",
      "124\n",
      "125\n",
      "126\n",
      "127\n",
      "128\n",
      "129\n",
      "130\n",
      "131\n",
      "132\n",
      "133\n",
      "134\n",
      "135\n",
      "136\n",
      "137\n",
      "138\n",
      "139\n",
      "140\n",
      "141\n",
      "142\n",
      "143\n",
      "144\n",
      "145\n",
      "146\n",
      "147\n",
      "148\n",
      "149\n",
      "150\n",
      "anchorParameter5 = 150\n"
     ]
    }
   ],
   "source": [
    "# This parameter is the anchor input for the whole model. It is essentially an interger number that will iterate from 90 to 1,000.\n",
    "# I attempted to create a range below ( to illustrate) to show the various output in the range from 90 to 150.\n",
    "\n",
    "for x in range(90, 151, 1):\n",
    "  print(x)\n",
    "anchorParameter5 = x\n",
    "print(\"anchorParameter5 =\",anchorParameter5)"
   ]
  },
  {
   "cell_type": "code",
   "execution_count": 5,
   "metadata": {},
   "outputs": [
    {
     "name": "stdout",
     "output_type": "stream",
     "text": [
      "anchorParameter5 = 150\n"
     ]
    }
   ],
   "source": [
    "anchorParameter5 = x\n",
    "print(\"anchorParameter5 =\",anchorParameter5)"
   ]
  },
  {
   "cell_type": "markdown",
   "metadata": {},
   "source": [
    "# Manual Inputs"
   ]
  },
  {
   "cell_type": "code",
   "execution_count": 6,
   "metadata": {},
   "outputs": [
    {
     "name": "stdout",
     "output_type": "stream",
     "text": [
      "Enter inputParameter6 from 0.81 to 1 1\n",
      "inputParameter6 = 1.0\n",
      "inputParameter7 = 150.0\n",
      "Enter inputParameter8 from 0.001 to 0.03 0.03\n",
      "inputParameter8 = 0.03\n",
      "Enter inputParameter9 from 18 to 200 18\n",
      "inputParameter9 = 18\n"
     ]
    }
   ],
   "source": [
    "inputParameter6 = 0\n",
    "inputParameter6 = float(input('Enter inputParameter6 from 0.81 to 1 '))\n",
    "while (inputParameter6 < 0.81) or (inputParameter6 > 1):\n",
    "    print('Invalid input!')\n",
    "    inputParameter6 = float(input('Enter inputParameter6 from 0.81 to 1 '))\n",
    "print(\"inputParameter6 =\",inputParameter6)\n",
    "\n",
    "inputParameter7 = round ((anchorParameter5 * inputParameter6),0)\n",
    "print(\"inputParameter7 =\",inputParameter7)\n",
    "\n",
    "inputParameter8 = 0\n",
    "inputParameter8 = float(input('Enter inputParameter8 from 0.001 to 0.03 '))\n",
    "while (inputParameter8 < 0.001) or (inputParameter8 > 0.03):\n",
    "    print('Invalid input!')\n",
    "    inputParameter8 = float(input('Enter inputParameter8 from 0.001 to 0.03 '))\n",
    "print(\"inputParameter8 =\",inputParameter8)\n",
    "\n",
    "inputParameter9 = 0\n",
    "inputParameter9 = int(input('Enter inputParameter9 from 18 to 200 '))\n",
    "while (inputParameter9 < 18) or (inputParameter9 > 200):\n",
    "    print('Invalid input!')\n",
    "    inputParameter9 = int(input('Enter inputParameter9 from 18 to 30 '))\n",
    "print(\"inputParameter9 =\",inputParameter9)"
   ]
  },
  {
   "cell_type": "markdown",
   "metadata": {},
   "source": [
    "# Model Optimisable Input Variables: InputParameters 10, 11, 12, 13, 14, 15"
   ]
  },
  {
   "cell_type": "code",
   "execution_count": 7,
   "metadata": {},
   "outputs": [
    {
     "name": "stdout",
     "output_type": "stream",
     "text": [
      "Enter inputParameter10 from 3 to 18 18\n",
      "inputParameter10 = 18\n",
      "Enter inputParameter11 from 25 to 50 27\n",
      "inputParameter11 = 27\n",
      "Enter inputParameter12 less than inputParameter 7 from 90 to 100 100\n",
      "inputParameter12 =  100\n",
      "Enter inputParameter13 from 0.26 to 0.40 0.27\n",
      "inputParameter13 = 0.27\n",
      "Enter inputParameter14 from 0.44 to 0.69 0.63\n",
      "inputParameter14 = 0.63\n",
      "Enter inputParameter15 from 0.7 to 0.9 0.81\n",
      "inputParameter15 = 0.81\n"
     ]
    }
   ],
   "source": [
    "inputParameter10 = 0\n",
    "inputParameter10 = int(input('Enter inputParameter10 from 3 to 18 '))\n",
    "while (inputParameter10 < 3) or (inputParameter10 > 18):\n",
    "    print('Invalid input!')\n",
    "    inputParameter10 = int(input('Enter inputParameter10 from 3 to 18 '))\n",
    "print(\"inputParameter10 =\",inputParameter10)\n",
    "\n",
    "inputParameter11 = 0\n",
    "inputParameter11 = int(input('Enter inputParameter11 from 25 to 50 '))\n",
    "while (inputParameter11 < 25) or (inputParameter11 > 50):\n",
    "    print('Invalid input!')\n",
    "    inputParameter11 = int(input('Enter inputParameter11 from 25 to 50 '))\n",
    "print(\"inputParameter11 =\",inputParameter11)\n",
    "\n",
    "inputParameter12 = 0\n",
    "inputParameter12 = int(input('Enter inputParameter12 less than inputParameter 7 from 90 to 100 '))\n",
    "while (inputParameter12 > inputParameter7) or (inputParameter12 < 80) or (inputParameter12 > 100):\n",
    "    print('Invalid input!')\n",
    "    inputParameter12 = int(input('Enter inputParameter12 less than inputParameter 7 from 90 to 100 '))\n",
    "print(\"inputParameter12 = \",inputParameter12)\n",
    "\n",
    "inputParameter13 = 0\n",
    "inputParameter13 = float(input('Enter inputParameter13 from 0.26 to 0.40 '))\n",
    "while (inputParameter13 < 0.26) or (inputParameter13 > 0.40):\n",
    "    print('Invalid input!')\n",
    "    inputParameter13 = float(input('Enter inputParameter13 from 0.26 to 0.40 '))\n",
    "print(\"inputParameter13 =\",inputParameter13)\n",
    "\n",
    "inputParameter14 = 0\n",
    "inputParameter14 = float(input('Enter inputParameter14 from 0.44 to 0.69 '))\n",
    "while (inputParameter14 < 0.44) or (inputParameter14 > 0.69):\n",
    "    print('Invalid input!')\n",
    "    inputParameter14 = float(input('Enter inputParameter14 from 0.44 to 0.69 '))\n",
    "print(\"inputParameter14 =\",inputParameter14)\n",
    "\n",
    "inputParameter15 = 0\n",
    "inputParameter15 = float(input('Enter inputParameter15 from 0.7 to 0.9 '))\n",
    "while (inputParameter15 < 0.7) or (inputParameter15 > 0.9):\n",
    "    print('Invalid input!')\n",
    "    inputParameter15 = float(input('Enter inputParameter15 from 0.7 to 0.9 '))\n",
    "print(\"inputParameter15 =\",inputParameter15)"
   ]
  },
  {
   "cell_type": "markdown",
   "metadata": {},
   "source": [
    "# Output 1, 2 & 3"
   ]
  },
  {
   "cell_type": "code",
   "execution_count": 8,
   "metadata": {},
   "outputs": [
    {
     "name": "stdout",
     "output_type": "stream",
     "text": [
      "output1 = 27\n",
      "output2 = 63\n",
      "output3 = 81\n"
     ]
    }
   ],
   "source": [
    "if inputParameter7 < inputParameter12:\n",
    "    inputParameter13 * inputParameter7\n",
    "    output1 = round(inputParameter13 * inputParameter7)\n",
    "    print(\"output1 =\", output1)\n",
    "elif inputParameter7 == inputParameter12:\n",
    "    inputParameter13 * inputParameter7\n",
    "    output1 = round(inputParameter13 * inputParameter7)\n",
    "    print(\"output1 =\", output1)\n",
    "else:\n",
    "    inputParameter13 * inputParameter12\n",
    "    output1 = round(inputParameter13 * inputParameter12)\n",
    "    print(\"output1 =\",output1)\n",
    "    \n",
    "\n",
    "if inputParameter7 < inputParameter12:\n",
    "    inputParameter14 * inputParameter7\n",
    "    output2 = round(inputParameter14 * inputParameter7)\n",
    "    print(\"output2 =\",output2)\n",
    "elif inputParameter7 == inputParameter12:\n",
    "    inputParameter14 * inputParameter7\n",
    "    output2 = round(inputParameter14 * inputParameter7)\n",
    "    print(\"output2 =\", output2)\n",
    "else:\n",
    "    inputParameter14 * inputParameter12\n",
    "    output2 = round(inputParameter14 * inputParameter12)\n",
    "    print(\"output2 =\",output2)\n",
    "\n",
    "    \n",
    "if inputParameter7 < inputParameter12:\n",
    "    inputParameter15 * inputParameter7\n",
    "    output3 = round(inputParameter15 * inputParameter7)\n",
    "    print(\"output3 =\",output3)\n",
    "elif inputParameter7 == inputParameter12:\n",
    "    inputParameter15 * inputParameter7\n",
    "    output3 = round(inputParameter15 * inputParameter7)\n",
    "    print(\"output3 =\", output3)\n",
    "else:\n",
    "    inputParameter15 * inputParameter12\n",
    "    output3 = round(inputParameter15 * inputParameter12)\n",
    "    print(\"output3 =\", output3)"
   ]
  },
  {
   "cell_type": "markdown",
   "metadata": {},
   "source": [
    "# Constraints 1, 2 & 3"
   ]
  },
  {
   "cell_type": "code",
   "execution_count": 9,
   "metadata": {},
   "outputs": [
    {
     "name": "stdout",
     "output_type": "stream",
     "text": [
      "constraint1 =  6\n",
      "constraint2 =  30\n",
      "constraint3 =  15\n"
     ]
    }
   ],
   "source": [
    "if output1 == 0:\n",
    "    constraint1 = 0\n",
    "    print(\"constraint1 = \",constraint1)\n",
    "    \n",
    "elif(fixedParameter4 + inputParameter11) > (output1 - inputParameter10 - fixedParameter4):\n",
    "    constraint1 = output1 - inputParameter10 - fixedParameter4\n",
    "    print(\"constraint1 = \",constraint1)\n",
    "else:\n",
    "    constraint1 = fixedParameter4 + inputParameter11\n",
    "    print(\"constraint1 = \",constraint1)\n",
    "    \n",
    "if (fixedParameter4 + inputParameter11) > (output2 - output1 - fixedParameter4):\n",
    "    constraint2 = output2 - output1 - fixedParameter4\n",
    "    print(\"constraint2 = \",constraint2)\n",
    "else:\n",
    "    constraint2 = fixedParameter4 + inputParameter11\n",
    "    print(\"constraint2 = \",constraint2)\n",
    "    \n",
    "if (fixedParameter4 + inputParameter11) > (output3 - output2 - fixedParameter4):\n",
    "    constraint3 = output3 - output2 - fixedParameter4\n",
    "    print(\"constraint3 = \",constraint3)\n",
    "else:\n",
    "    constraint3 = fixedParameter4 + inputParameter11\n",
    "    print(\"constraint3 = \",constraint3)"
   ]
  },
  {
   "cell_type": "markdown",
   "metadata": {},
   "source": [
    "# L Header: Output 7, 8, 9, 10"
   ]
  },
  {
   "cell_type": "code",
   "execution_count": 10,
   "metadata": {},
   "outputs": [
    {
     "name": "stdout",
     "output_type": "stream",
     "text": [
      "output7 = -15\n",
      "output8 = 21\n",
      "output9 = 36\n",
      "output10 = 66\n"
     ]
    }
   ],
   "source": [
    "output7 = fixedParameter4 - inputParameter9\n",
    "print(\"output7 =\", output7)\n",
    "\n",
    "if output1 == 0:\n",
    "    output8 = int(0)\n",
    "    print(\"output8 =\",output8)\n",
    "elif (inputParameter10 + fixedParameter4) > (output1 - inputParameter11):\n",
    "        output8 = int(inputParameter10 + fixedParameter4)\n",
    "        print(\"output8 =\",output8)\n",
    "else:\n",
    "    output8 = int(output1 - inputParameter11)\n",
    "    print(\"output8 =\",output8)\n",
    "    \n",
    "if output2 == 0:\n",
    "    output9 = int(0)\n",
    "    print(\"output9 =\",output9)\n",
    "elif (output1 + fixedParameter4) > (output2 - inputParameter11):\n",
    "        output9 = int(output1 + fixedParameter4)\n",
    "        print(\"output9 =\",output9)\n",
    "else:\n",
    "    output9 = int(output2 - inputParameter11)\n",
    "    print(\"output9 =\",output9)\n",
    "    \n",
    "if output3 == 0:\n",
    "    output10 = 0\n",
    "    print(\"output10 =\",output10)\n",
    "elif (output2 + fixedParameter4) > (output3 - inputParameter11):\n",
    "        output10 = int(output2 + fixedParameter4)\n",
    "        print(\"output10 =\",output10)\n",
    "else:\n",
    "    output10 = int(output2 - inputParameter11)\n",
    "    print(\"output10 =\",output10)"
   ]
  },
  {
   "cell_type": "markdown",
   "metadata": {},
   "source": [
    "# PG Header: Output 11, 12, 13, 14"
   ]
  },
  {
   "cell_type": "code",
   "execution_count": 11,
   "metadata": {},
   "outputs": [
    {
     "name": "stdout",
     "output_type": "stream",
     "text": [
      "output11 = 147.0\n",
      "output12 = 120.0\n",
      "output13 = 84.0\n",
      "output14 = 66.0\n",
      "total = 417.0\n"
     ]
    }
   ],
   "source": [
    "output11 = inputParameter7 - fixedParameter4\n",
    "print(\"output11 =\", output11)\n",
    "output12 = inputParameter7 - output1 - fixedParameter4\n",
    "print(\"output12 =\", output12)\n",
    "output13 = inputParameter7 - output2 - fixedParameter4\n",
    "print(\"output13 =\", output13)\n",
    "output14 = inputParameter7 - output3 - fixedParameter4\n",
    "print(\"output14 =\", output14)\n",
    "total = output11 + output12 + output13 + output14\n",
    "print(\"total =\", total)"
   ]
  },
  {
   "cell_type": "markdown",
   "metadata": {},
   "source": [
    "# Cos Header: Output 15, 16, 17 & 18"
   ]
  },
  {
   "cell_type": "code",
   "execution_count": 12,
   "metadata": {},
   "outputs": [
    {
     "name": "stdout",
     "output_type": "stream",
     "text": [
      "output15 = 1.8\n",
      "output16 = 6.3\n",
      "output17 = 4.5\n",
      "output18 = 25.2\n"
     ]
    }
   ],
   "source": [
    "output15 = round((fixedParameter1 * inputParameter8) / (inputParameter9 + fixedParameter4) / fixedParameter3,1)\n",
    "print(\"output15 =\",output15)\n",
    "\n",
    "if output1 == 0:\n",
    "    output16 = 0\n",
    "    print(\"output16 =\",output16)\n",
    "\n",
    "elif (abs(round ((output15 * output8) / (output1 - output8),2))) > 99:\n",
    "    output16 = 99\n",
    "    print(\"output16 =\",output16)\n",
    "    \n",
    "else:\n",
    "    output16 = abs(round ((output15 * output8) / (output1 - output8),2))\n",
    "    print(\"output16 =\",output16)\n",
    "    \n",
    "if output2 == 0:\n",
    "    output17 = 0\n",
    "    print(\"output17 =\",output17)\n",
    "    \n",
    "elif (abs(round(((output15 * output9 * fixedParameter3) + (output16 * (output9 - output1) * fixedParameter3)) / ((output2 - output9) * (fixedParameter3)),2))) > 99:\n",
    "    output17 = 99\n",
    "    print(\"output17 =\",output17)\n",
    "    \n",
    "else:\n",
    "    output17 = abs(round(((output15 * output9 * fixedParameter3) + (output16 * (output9 - output1) * fixedParameter3)) / ((output2 - output9) * (fixedParameter3)),2))\n",
    "    print(\"output17 =\",output17)\n",
    "    \n",
    "if output3 == 0:\n",
    "    output18 = 0\n",
    "    print(\"output18 =\",output18)\n",
    "    \n",
    "elif (abs(round(((output15 * output10 * fixedParameter3) + (output16 * (output10 - output1) * fixedParameter3) + (output17 * (output10 - output2) * fixedParameter3)) / ((output3 - output10) * (fixedParameter3)),2))) > 99:\n",
    "    output18 = 99\n",
    "    print(\"output18 =\",output18)\n",
    "      \n",
    "else:\n",
    "    output18 = abs(round(((output15 * output10 * fixedParameter3) + (output16 * (output10 - output1) * fixedParameter3) + (output17 * (output10 - output2) * fixedParameter3)) / ((output3 - output10) * (fixedParameter3)),2))\n",
    "    print(\"output18 =\",output18)"
   ]
  },
  {
   "cell_type": "markdown",
   "metadata": {},
   "source": [
    "# Lo Rat Header: Constraints 4, 5, 6"
   ]
  },
  {
   "cell_type": "code",
   "execution_count": 13,
   "metadata": {},
   "outputs": [
    {
     "name": "stdout",
     "output_type": "stream",
     "text": [
      "constraint4 = 3.5\n",
      "constraint5 = 2.5\n",
      "constraint6 = 14.0\n"
     ]
    }
   ],
   "source": [
    "constraint4 = 0\n",
    "constraint4 = output16 / output15\n",
    "if (constraint4 > 4):\n",
    "    print(\"constraint4 =\",constraint4)\n",
    "    print('Adjust your inputParameter10 and inputParameter13 to allow constraint4 to be less than 4')\n",
    "    constraint4 = output16 / output15\n",
    "print(\"constraint4 =\",constraint4)\n",
    "\n",
    "constraint5 = 0\n",
    "constraint5 = output17 / output15\n",
    "if (constraint5 > 4):\n",
    "    print(\"constraint5 =\",constraint5)\n",
    "    print('Adjust your inputParameter13 to allow constraint5 to be less than 4')\n",
    "    constraint5 = output17 / output15\n",
    "print(\"constraint5 =\",constraint5)\n",
    "\n",
    "constraint6 = 0\n",
    "constraint6 = output18 / output15\n",
    "if (constraint6 > 14.5):\n",
    "    print(\"constraint6 =\",constraint6)\n",
    "    print('Adjust your inputParameter14 to allow a higher constraint3 and constraint6 to be less than 14.5')\n",
    "    constraint6 = output18 / output15\n",
    "print(\"constraint6 =\",constraint6)"
   ]
  },
  {
   "cell_type": "markdown",
   "metadata": {},
   "source": [
    "# Res Header: Output 19, 20, 21, 22 & Target"
   ]
  },
  {
   "cell_type": "code",
   "execution_count": 14,
   "metadata": {},
   "outputs": [
    {
     "name": "stdout",
     "output_type": "stream",
     "text": [
      "output19 = 2116.8\n",
      "output20 = 6048.0\n",
      "output21 = 3024.0\n",
      "output22 = 13305.6\n",
      "Target = 24494.4\n"
     ]
    }
   ],
   "source": [
    "output19 = output15 * output11 * fixedParameter3\n",
    "print(\"output19 =\", output19)\n",
    "output20 = output16 * output12 * fixedParameter3\n",
    "print(\"output20 =\", output20)\n",
    "output21 = output17 * output13 * fixedParameter3\n",
    "print(\"output21 =\", output21)\n",
    "output22 = output18 * output14 * fixedParameter3\n",
    "print(\"output22 =\", output22)\n",
    "Target = output19 + output20 + output21 + output22\n",
    "print(\"Target =\", Target)"
   ]
  }
 ],
 "metadata": {
  "kernelspec": {
   "display_name": "Python 3",
   "language": "python",
   "name": "python3"
  },
  "language_info": {
   "codemirror_mode": {
    "name": "ipython",
    "version": 3
   },
   "file_extension": ".py",
   "mimetype": "text/x-python",
   "name": "python",
   "nbconvert_exporter": "python",
   "pygments_lexer": "ipython3",
   "version": "3.7.3"
  }
 },
 "nbformat": 4,
 "nbformat_minor": 2
}
